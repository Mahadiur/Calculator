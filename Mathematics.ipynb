{
 "cells": [
  {
   "metadata": {
    "collapsed": true
   },
   "cell_type": "markdown",
   "source": "# **Mathematics Operation**",
   "id": "d101ecd2ed2e3d26"
  },
  {
   "metadata": {
    "ExecuteTime": {
     "end_time": "2025-09-08T14:59:17.880841Z",
     "start_time": "2025-09-08T14:59:17.877257Z"
    }
   },
   "cell_type": "code",
   "source": [
    "''' Add Function '''\n",
    "def Add_Func(x, y):\n",
    "    return x + y\n",
    "\n",
    "Add_Func(3, 4)"
   ],
   "id": "36b134b057d9d19f",
   "outputs": [
    {
     "data": {
      "text/plain": [
       "7"
      ]
     },
     "execution_count": 1,
     "metadata": {},
     "output_type": "execute_result"
    }
   ],
   "execution_count": 1
  },
  {
   "metadata": {
    "ExecuteTime": {
     "end_time": "2025-09-08T15:01:06.299081Z",
     "start_time": "2025-09-08T15:01:06.294837Z"
    }
   },
   "cell_type": "code",
   "source": [
    "''' Subtract Function '''\n",
    "def Subtract_Func(x, y):\n",
    "    return x - y\n",
    "Subtract_Func(4, 3)"
   ],
   "id": "8c4c26a2729e2a43",
   "outputs": [
    {
     "data": {
      "text/plain": [
       "1"
      ]
     },
     "execution_count": 2,
     "metadata": {},
     "output_type": "execute_result"
    }
   ],
   "execution_count": 2
  },
  {
   "metadata": {
    "ExecuteTime": {
     "end_time": "2025-09-08T15:01:57.643320Z",
     "start_time": "2025-09-08T15:01:57.638633Z"
    }
   },
   "cell_type": "code",
   "source": [
    "''' Multiplication Function '''\n",
    "def Multiplication_Func(x, y):\n",
    "    return x * y\n",
    "\n",
    "Multiplication_Func(3, 4)"
   ],
   "id": "a603b3d598f6f82a",
   "outputs": [
    {
     "data": {
      "text/plain": [
       "12"
      ]
     },
     "execution_count": 3,
     "metadata": {},
     "output_type": "execute_result"
    }
   ],
   "execution_count": 3
  },
  {
   "metadata": {
    "ExecuteTime": {
     "end_time": "2025-09-08T15:02:34.988822Z",
     "start_time": "2025-09-08T15:02:34.984444Z"
    }
   },
   "cell_type": "code",
   "source": [
    "def Divide_Func(x, y):\n",
    "    return x / y\n",
    "\n",
    "Divide_Func(8, 4)"
   ],
   "id": "215fcdc905e56ecf",
   "outputs": [
    {
     "data": {
      "text/plain": [
       "2.0"
      ]
     },
     "execution_count": 4,
     "metadata": {},
     "output_type": "execute_result"
    }
   ],
   "execution_count": 4
  }
 ],
 "metadata": {
  "kernelspec": {
   "display_name": "Python 3",
   "language": "python",
   "name": "python3"
  },
  "language_info": {
   "codemirror_mode": {
    "name": "ipython",
    "version": 2
   },
   "file_extension": ".py",
   "mimetype": "text/x-python",
   "name": "python",
   "nbconvert_exporter": "python",
   "pygments_lexer": "ipython2",
   "version": "2.7.6"
  }
 },
 "nbformat": 4,
 "nbformat_minor": 5
}
